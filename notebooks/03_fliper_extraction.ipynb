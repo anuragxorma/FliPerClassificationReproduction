{
 "cells": [
  {
   "cell_type": "code",
   "execution_count": 1,
   "metadata": {},
   "outputs": [],
   "source": [
    "import pandas as pd\n",
    "\n",
    "import sys\n",
    "import os\n",
    "\n",
    "# Get the parent directory\n",
    "parent_dir = os.path.dirname(os.getcwd())\n",
    "\n",
    "# Add 'src' and 'data' folders to the system path\n",
    "sys.path.append(os.path.join(parent_dir, 'src'))\n",
    "\n",
    "from data_preprocessing import generate_light_curve, compute_psd, compute_fliper"
   ]
  },
  {
   "cell_type": "code",
   "execution_count": 2,
   "metadata": {},
   "outputs": [],
   "source": [
    "# Load synthetic data\n",
    "data = pd.read_csv(\"../data/synthetic_star_dataset.csv\")"
   ]
  },
  {
   "cell_type": "code",
   "execution_count": 3,
   "metadata": {},
   "outputs": [],
   "source": [
    "# Compute FliPer values for all stars\n",
    "fliper_values = []\n",
    "for idx, row in data.iterrows():\n",
    "    time, flux = generate_light_curve(row['Teff'], row['Star_Type'])\n",
    "    freq, psd = compute_psd(time, flux)\n",
    "    fliper = compute_fliper(psd, freq)\n",
    "    fliper_values.append({\n",
    "        \"Teff\": row[\"Teff\"],\n",
    "        \"logg\": row[\"logg\"],\n",
    "        \"Lum\": row[\"Lum\"],\n",
    "        \"Star_Type\": row[\"Star_Type\"],\n",
    "        \"FliPer\": fliper,\n",
    "    })"
   ]
  },
  {
   "cell_type": "code",
   "execution_count": 4,
   "metadata": {},
   "outputs": [
    {
     "name": "stdout",
     "output_type": "stream",
     "text": [
      "FliPer values computed and saved.\n"
     ]
    }
   ],
   "source": [
    "# Save processed data\n",
    "fliper_df = pd.DataFrame(fliper_values)\n",
    "fliper_df.to_csv(\"../data/processed/synthetic_fliper_data.csv\", index=False)\n",
    "print(\"FliPer values computed and saved.\")"
   ]
  },
  {
   "cell_type": "code",
   "execution_count": null,
   "metadata": {},
   "outputs": [],
   "source": []
  }
 ],
 "metadata": {
  "kernelspec": {
   "display_name": "base",
   "language": "python",
   "name": "python3"
  },
  "language_info": {
   "codemirror_mode": {
    "name": "ipython",
    "version": 3
   },
   "file_extension": ".py",
   "mimetype": "text/x-python",
   "name": "python",
   "nbconvert_exporter": "python",
   "pygments_lexer": "ipython3",
   "version": "3.9.19"
  }
 },
 "nbformat": 4,
 "nbformat_minor": 2
}
