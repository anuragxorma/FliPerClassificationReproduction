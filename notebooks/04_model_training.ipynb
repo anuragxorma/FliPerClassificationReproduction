{
 "cells": [
  {
   "cell_type": "code",
   "execution_count": 8,
   "metadata": {},
   "outputs": [],
   "source": [
    "# Import necessary libraries\n",
    "import pandas as pd\n",
    "\n",
    "import sys\n",
    "import os\n",
    "\n",
    "# Get the parent directory\n",
    "parent_dir = os.path.dirname(os.getcwd())\n",
    "\n",
    "# Add 'src' and 'data' folders to the system path\n",
    "sys.path.append(os.path.join(parent_dir, 'src'))\n",
    "\n",
    "from model_training import load_data, split_data, train_model, evaluate_model, save_model"
   ]
  },
  {
   "cell_type": "code",
   "execution_count": 9,
   "metadata": {},
   "outputs": [],
   "source": [
    "# Load processed dataset\n",
    "data_file = \"../data/processed/synthetic_fliper_data.csv\"\n",
    "data = load_data(data_file)"
   ]
  },
  {
   "cell_type": "code",
   "execution_count": 10,
   "metadata": {},
   "outputs": [],
   "source": [
    "# Split dataset into training and testing sets\n",
    "X_train, X_test, y_train, y_test = split_data(data, target_column=\"Star_Type\")"
   ]
  },
  {
   "cell_type": "code",
   "execution_count": 11,
   "metadata": {},
   "outputs": [],
   "source": [
    "# Train Random Forest model\n",
    "rf_model = train_model(X_train, y_train, n_estimators=100)"
   ]
  },
  {
   "cell_type": "code",
   "execution_count": 12,
   "metadata": {},
   "outputs": [],
   "source": [
    "# Evaluate the model\n",
    "metrics = evaluate_model(rf_model, X_test, y_test)"
   ]
  },
  {
   "cell_type": "code",
   "execution_count": 13,
   "metadata": {},
   "outputs": [
    {
     "name": "stdout",
     "output_type": "stream",
     "text": [
      "Model Evaluation Metrics:\n",
      "               precision    recall  f1-score   support\n",
      "\n",
      "  Beta_Cephei       0.99      1.00      0.99        66\n",
      "      Cepheid       0.98      0.99      0.99       244\n",
      "  Delta_Scuti       1.00      0.84      0.91        19\n",
      "Gamma_Doradus       0.95      0.89      0.92       310\n",
      "          LPV       0.99      0.98      0.98       190\n",
      "      RRLyrae       1.00      1.00      1.00       129\n",
      "          SPB       1.00      1.00      1.00       387\n",
      "   Solar_Like       0.96      0.99      0.97       732\n",
      "         roAp       0.94      0.96      0.95        52\n",
      "         sdBV       1.00      1.00      1.00        34\n",
      "\n",
      "     accuracy                           0.97      2163\n",
      "    macro avg       0.98      0.96      0.97      2163\n",
      " weighted avg       0.97      0.97      0.97      2163\n",
      "\n"
     ]
    }
   ],
   "source": [
    "print(\"Model Evaluation Metrics:\")\n",
    "print(metrics[\"Classification Report\"])"
   ]
  },
  {
   "cell_type": "code",
   "execution_count": 15,
   "metadata": {},
   "outputs": [
    {
     "name": "stdout",
     "output_type": "stream",
     "text": [
      "Model saved to ../models/random_forest.pkl\n"
     ]
    }
   ],
   "source": [
    "# Save the trained model\n",
    "save_model(rf_model, \"../models/random_forest.pkl\")"
   ]
  }
 ],
 "metadata": {
  "kernelspec": {
   "display_name": "base",
   "language": "python",
   "name": "python3"
  },
  "language_info": {
   "codemirror_mode": {
    "name": "ipython",
    "version": 3
   },
   "file_extension": ".py",
   "mimetype": "text/x-python",
   "name": "python",
   "nbconvert_exporter": "python",
   "pygments_lexer": "ipython3",
   "version": "3.9.19"
  }
 },
 "nbformat": 4,
 "nbformat_minor": 2
}
